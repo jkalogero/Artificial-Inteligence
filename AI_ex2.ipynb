{
  "nbformat": 4,
  "nbformat_minor": 0,
  "metadata": {
    "kernelspec": {
      "name": "python3",
      "display_name": "Python 3"
    },
    "language_info": {
      "codemirror_mode": {
        "name": "ipython",
        "version": 3
      },
      "file_extension": ".py",
      "mimetype": "text/x-python",
      "name": "python",
      "nbconvert_exporter": "python",
      "pygments_lexer": "ipython3",
      "version": "3.7.3"
    },
    "pycharm": {
      "stem_cell": {
        "cell_type": "raw",
        "source": [],
        "metadata": {
          "collapsed": false
        }
      }
    },
    "colab": {
      "provenance": []
    },
    "accelerator": "GPU"
  },
  "cells": [
    {
      "cell_type": "markdown",
      "metadata": {
        "id": "816WHA5P3nJT"
      },
      "source": [
        "# Τεχνητή Νοημοσύνη: Εργαστηριακή Άσκηση 2\n",
        "---\n",
        "\n",
        "Ο στόχος της εργασίας είναι η κατασκευή ενός συστήματος προτάσεων (Recommendation System) για ταινίες. Οι προτάσεις αυτές θα πηγάζουν τόσο από τα χαρακτηριστικά της ταινίας όσο και από ορισμένες αξιολογήσεις του κάθε χρήστη.\n",
        "\n",
        "Στα δεδομένα της άσκησης περιλαμβάνονται ένα αρχείο με το όνομα movies_metadata.csv το όποιο περιέχει τα χαρακτηριστικά κάθε ταινίας όπως θέμα, σκηνοθέτης, ηθοποιοί, λέξεις κλειδιά κ.α. από το imdb, τα αρχεία user1.csv και user2.csv τα όποια περιέχουν αξιολογήσεις για 2 διαφορετικούς χρήστες καθώς και το αρχείο relative_movies.csv, που περιέχει 10 όμοιες ταινίες για ορισμένους τυχαία επιλεγμένους τίτλους.\n"
      ]
    },
    {
      "cell_type": "markdown",
      "metadata": {
        "id": "aa-wJhCX9Nwk"
      },
      "source": [
        "# Εκφώνηση\n",
        "Στην παρούσα εργασία σας ζητείται να μελετήσετε και υλοποιήσετε τα παρακάτω:<br>\n",
        "\n",
        "### Μέρος 1\n",
        "Στο μέρος 1 και 2 θα ασχοληθείτε και θα εργαστείτε μόνο με το αρχείο movies_metadata.csv.\n",
        "#### Ερώτημα 1α\n",
        "\n",
        "Αρχικά θα πρέπει αφού μελετήσετε την δομή και τα χαρακτηριστικά του αρχείου αυτού να κατασκευάσετε μια βάση γνώσης για την Prolog η όποια ουσιαστικά θα αποτελεί τον κόσμο με τον όποιο θα εργαστείτε στην συνέχεια. Τα κατηγορήματα που θα δημιουργηθούν θα σας βοηθήσουν και στην κατασκευή του recommender και θα είναι της μορφής:\n",
        "\n",
        "```\n",
        "director(Movie, Director).\n",
        "genre(Movie, Genre).\n",
        "```\n",
        "#### Ερώτημα 1β\n",
        "\n",
        "Αφού δημιουργήσετε τον κόσμο του προβλήματος στην συνέχεια καλείστε να δημιουργήσετε, σε Prolog, απλούς κανόνες οι οποίοι θα βρίσκουν όλες τις ταινίες με:\n",
        "1.\tΑρκετά κοινό θέμα (κάποιες λέξεις σχετικά με το genre κοινές)\n",
        "2.\tΣχετικά κοινό θέμα (κάποιες λιγότερες λέξεις σχετικά με το genre κοινές π.χ. 3)\n",
        "3.\tΛιγότερο κοινό θέμα (λίγες λέξεις σχετικές με το genre κοινές π.χ. 1)\n",
        "4.\tΚοινός σκηνοθέτης\n",
        "5.\tΑκριβώς ίδια πλοκή (κάποιες λέξεις κλειδιά της πλοκής να είναι κοινές)\n",
        "6.\tΣχετικά ίδια πλοκή (κάποιες λιγότερες λέξεις κλειδιά κοινές)\n",
        "7.\tΊδιους τους βασικούς ηθοποιούς (και τους 3)\n",
        "8.\tΑρκετά ίδιους βασικούς ηθοποιούς (ορισμένους βασικούς ηθοποιούς κοινούς π.χ. 2)\n",
        "9.\tΣχετικά ίδιους ηθοποιούς (π.χ. 1 από τους 3)\n",
        "10.\tΊδια γλώσσα\n",
        "11.\tΕίναι έγχρωμες ή ασπρόμαυρες\n",
        "\n",
        "Αξίζει να σημειωθεί ότι στα παραπάνω μπορείτε να προσθέσετε περισσότερα ερωτήματα ή να αλλάξετε την κλιμακωσιμότητα των queries (πέρα από το ίδιο, αρκετά ίδιο, σχετικά ίδιο) που θα κατασκευάσετε(π.χ. μια κλίμακα από 1 στα 5 όπου αυτό είναι δυνατόν), μιας και αυτά στην συνέχεια θα χρησιμοποιηθούν για την λειτουργία του recommender. Έτσι μπορείτε να προσθέσετε queries με τα όποια μπορεί να παράγονται καλύτερες συστάσεις  (το αρχείο movie_metadata.csv περιέχει πολλές πληροφορίες ακόμα για κάθε ταινία όπως έτος κυκλοφορίας, βαθμολογία στο imdb, facebοok_likes κ.α.).\n",
        "\n",
        "Περισσότερες πληροφορίες για το dataset μπορείτε να διαβάσετε σε αυτό το Link: https://www.kaggle.com/adnanr94/imdb-movies-metadata.\n",
        "\n",
        "### Μέρος 2: Recommendation System\n",
        "Στο σημείο αυτό καλείστε με βάση αυτά που κάνατε στο μέρος 1 να κατασκευάσετε queries τα όποια θα σας επιστρέφουν παρόμοιες (σε χαρακτηριστικά) ταινίες. Τα ερωτήματα αυτά θα είναι κλιμακούμενα, δηλαδή θα υπάρχουν ερωτήματα που επιστρέφουν αρκετά κοινές ταινίες, και άλλα που επιστρέφουν λιγότερο κοινές (σε μια κλίμακα π.χ. από 1 σε 5). Για παράδειγμα:\n",
        "\n",
        "```\n",
        "simple_recommender_5(\"Pirates Of The Caribbean\", M).\n",
        "M = \"Pirates Of The Caribbean: On Stranger Tides\"\n",
        "M = \"The Chronicles Of Narnia\"\n",
        "M = \"Prince Of Persia: The Sands Of Time\"\n",
        "...\n",
        "\n",
        "simple_recommender_5(\"Avatar\").\n",
        "M = 'Terminator 2: Judgment Day'\n",
        "M = 'Aliens'\n",
        "M = 'The Terminator'\n",
        "\n",
        "simple_recommender_5(\"Star Wars: Episode III - Revenge of the Sith\").\n",
        "M = Star Wars: Episode IV - A New Hope'\n",
        "M = 'Star Wars: Episode I - The Phantom Menace'\n",
        "M = 'Star Wars: Episode II - Attack of the Clones'\n",
        "\n",
        "```\n",
        "Για παράδειγμα το παραπάνω ερώτημα θα επιστρέφει αρκετά κοινές σε περιεχόμενο ταινίες με την ταινια \"Pirates Of The Caribbean\". Αντίστοιχα θα υπάρχουν και ερωτήματα που θα βρίσκουν λιγότερα όμοιες ταινίες. Ο δείκτης ομοιότητας των ταινιών είναι αυθαίρετος και μπορείτε να τον ορίσετε εσείς όπως θέλετε, αρκεί απλά να υπάρχει κάποια λογική σύνδεση με τα δεδομένα που περιέχονται στο αρχείο movies_metadata.csv. \n",
        "\n",
        "Συνεπώς η συνάρτηση που θα κάνει τις προτάσεις (recommendation) με είσοδο μια ταινία πρέπει να επιστρέφει-εκτυπώνει μια λίστα με τις προτεινόμενες ταινίες σε φθίνουσα σειρά ομοιότητας. \n",
        "\n",
        "Για να μπορείτε να αξιολογήσετε τα αποτελέσματα των συστάσεων σας σας δίνεται ένα αρχείο με ορισμένες ταινίας και τα 10 πρώτα αποτελέσματά τους σε φθίνουσα σειρά ομοιότητας. Για την σύγκρισή των αποτελεσμάτων σας με τα  αποτελέσματα του αρχείου relative_movies.csv  μπορείτε να χρησιμοποιήσετε της συνάρτηση ομοιότητας συνόλων Jaccard (https://www.statisticshowto.datasciencecentral.com/jaccard-index/).\n",
        "\n",
        "$$jaccard(A,B)=\\frac{|A\\cap B|}{|A\\cup B|}$$\n",
        "\n",
        "Η υλοποίηση της συνάρτησης αυτής σε Python σας δίνεται με το όνομα jaccard_similarity (set1, set2). \n",
        "\n",
        "Αξίζει να σημειωθεί ότι η παραπάνω σύγκριση δεν είναι απόλυτη για τον λόγο ότι οι συναρτήσεις ομοιότητας μπορεί να είναι διαφορετικές (διαφορετικά ορίζει ο καθένας της ομοιότητα μεταξύ ταινιών) καθώς επίσης αν μια ταινία δεν έχει πολύ σχετικές προτάσεις τότε οι πιο γενικές συναρτήσεις ομοιότητας θα έχουν πολλά αποτελέσματα τα όποια η Prolog θα επιστρέψει με την σειρά που τα βρίσκει στην βάση, όποτε τότε δεν έχει ιδιαίτερο νόημα η σύγκριση σε αυτήν την περίπτωση.\n",
        "Η ομοιότητα των ταινιών είναι βοηθητική και σκοπό έχει να σας βοηθήσει να κατανοήσετε την κατεύθυνση της ασκήσης και όχι για να καταφέρετε την πλήρη ταύτιση των συστάσεων.\n",
        "\n",
        "### 3ο Μέρος: Recommendation System με βάση τις προτιμήσεις-αξιολογήσεις του χρήστη\n",
        "\n",
        "\n",
        "Σε αυτό το σημείο θα εργαστείτε με τα αρχεία user1.csv και user2.csv, τα όποια περιέχουν αξιολογήσεις (από 1 μέχρι 5) για ταινίες από 2 διαφορετικούς χρήστες. Το προηγούμενο σύστημα συστάσεων προτείνει στον χρήστη ταινίες αποκλειστικά με βάση την ομοιότητά τους. Έτσι σε αυτό το σημείο θα γίνει μια αναβάθμιση του συστήματος έτσι ώστε να παράγονται καλύτερες  συστάσεις οι όποιες θα λαμβάνουν υπόψιν και τις προτιμήσεις του χρήστη, οι όποιες θα εξάγονται από τις αξιολογήσεις που έχει κάνει μέχρι στιγμής. \n",
        "\n",
        "Έτσι πλέον για κάθε ταινία θα υπάρχει ένα score το όποιο αρχικά θε είναι ίσο με 0 και θα διαμορφώνεται από τις αξιολογήσεις κάθε user. Έτσι για έναν χρήστη με βάση τις αξιολογήσεις που έχει κάνει θα πρέπει για κάθε ταινία που έχει βαθμολογήσει θα βρίσκονται οι κοινές ταινίες ανά κλίμακα και στο μέχρι τώρα σκορ κάθε παρόμοιας ταινίας θα προστίθεται ένα βάρος το όποιο θα μπορούσε να είναι το ποσοστό ομοιότητας της ταινίας (δηλαδή ένα βάρος για κάθε κλίμακα) επί τον βαθμό που έχει βάλει ο χρήστης για την αρχική ταινία (ή ένα βάρος ανά βαθμό ώστε οι καλές κριτικές να γίνονται καλύτερες ενώ οι κακές χειρότερες). Δηλαδή, αν $rated\\_movies$ είναι το σύνολο ταινιών που έχει αξιολογήσει ο χρήστης, τότε τα recommendations που θα λαμβάνει ο χρήστης θα είναι οι ταινίες που είναι τουλάχιστον similar_1 με τουλάχιστον μία ταινία που έχει βαθμολογήσει ο χρήστης, σε φθίνουσα σειρά recommendation_score, όπου:\n",
        "\n",
        "$$recommendation\\_score(m_1)=\\sum_{m_2\\in rated\\_movies} similarity\\_weight(m_1,m_2)\\cdot voting\\_weight(m_2)$$\n",
        "\n",
        "\n",
        "Έτσι για παράδειγμα αν ένας χρήστης έχει αξιολογήσει αρκετές  ταινίες οι όποιες είναι sci-fiction με 5/5 τότε όταν ζητήσει τις προτεινόμενες είναι λογικό να λάβει πρώτα κάποιες που είναι αυτού του είδους μιας και αυτές μπορεί του αρέσουν περισσότερο.\n",
        "\n",
        "Επίσης για να εξετάσετε την αποδοτικότητα του συστήματος αυτού μπορείτε να κατασκευάσετε τους δικούς σας χρήστες. Για να το κάνετε αυτό πρέπει να γράψετε ορισμένους κανόνες της μορφής: liked(X), notliked(X) οι οποίοι θα σας επιστρέφουν ταινίες που πιθανώς θα σας αρέσουν, π.χ. σας αρέσουν ταινίες επιστημονικής φαντασίας που τις έχει σκηνοθετήσει ένας συγκεκριμένος σκηνοθέτης και αυτές που δεν είναι του γούστου σας. Για την κατασκευή του αρχείου και των αξιολογήσεων σας δίνεται μια συνάρτηση η όποια δέχεται σας ορίσματα όλες τις ταινίες από κάθε κατηγορία και τυχαία επιλέγετε ένας ορισμένος αριθμός ταινιών από αυτές στις όποιες δίνεται ένας βαθμός (για αυτές που αρέσουν στον χρήστη από 3 μέχρι 5 με διαφορετικές πιθανότητες ενώ σε αυτές που δεν του αρέσουν από 1 μέχρι 3). Μπορείτε να πειραματιστείτε με αυτήν την συνάρτηση για να ελέγξετε τα αποτελέσματά σας.\n"
      ]
    },
    {
      "cell_type": "markdown",
      "metadata": {
        "id": "mgT4rsTd4tcf"
      },
      "source": [
        "---\n",
        "## Κατασκευή Περιβάλλοντος Εργασίας\n",
        "---\n",
        "### Διάβασμα Αρχείων στο Colab (Μόνο για το Colab)\n",
        "Αν η υλοποίηση γίνει στο google colab τότε μπορεί να χρησιμοποιηθεί το google drive ως file system. Για να γίνει Mount το google drive τρέχουμε τον παρακάτω κώδικα και κλικάρουμε στο link που θα μας εμφανιστεί. \n",
        "\n",
        "```\n",
        "from google.colab import drive\n",
        "drive.mount('/gdrive')\n",
        "import os\n",
        "os.listdir('/gdrive/My Drive')\n",
        "```\n",
        "Επέιτα στην σελίδα που άνοιξε επιλέγουμε το mail μας και στο επόμενο παράθυρο που θα μας ανοίξει πατάμε Να επιτρέπεται. Στην συνέχεια αντιγράφουμε τον κωδικό που θα μας βγάλει και τον κάνουμε paste στο Input που έχει ανοίξει στο colab. Έτσι πλέον αν έχουμε ανεβάσει ένα αρχείο στο google drive μπορούμε να το βρούμε στην θέση:\n",
        "\n",
        "```\n",
        "movies_filename = '/gdrive/My Drive/' + movies_metadata.csv\n",
        "```\n",
        "Μπορούμε πλέον κανονικά να δουλέψουμε φτιάχνοντας φακέλους ή αρχεία και γενικότερα κάνοντας οτιδήποτε θα κάναμε αν ήμασταν τοπικά. \n",
        "\n",
        "### Prolog μέσω Python\n",
        "\n",
        "Το πακέτο που θα χρησιμοποιηθεί για την επικοινωνία Python και Prolog είναι το pyswip (https://pypi.org/project/pyswip/). Για να δουλέψει το Pyswip  χρειάζεται να υπάρχει το Swi-Prolog το όποιο αν δουλεύουμε τοπικά πρέπει να το εγκαταστήσουμε, ακολουθώντας αντίστοιχές οδηγίες στην σελίδα του εργαλείου. Για να γίνει του Swi-Prolog η εγκατάσταση στο Google Colab πρέπει να τρέξουμε τον παρακάτω κώδικα:\n",
        "\n",
        "```\n",
        "!sudo apt-get install software-properties-common\n",
        "!sudo apt-add-repository ppa:swi-prolog/stable\n",
        "!sudo apt-get update\n",
        "!sudo apt-get install swi-prolog\n",
        "```\n",
        "Σε κάποιο σημείο της εκτέλεσης εμφανίζεται ένα μήνυμα ότι πρέπει να πατήσουμε enter σε ένα input για να συνεχίσει η διαδικασία. Έπειτα από αυτό η εκτέλεση θα συνεχίσει χωρίς κάποιο πρόβλημα.\n",
        "\n",
        "Τέλος πρέπει να εγκαταστήσουμε το pyswip (**όπου και να δουλεύουμε**) όπως παρακάτω:\n",
        "\n",
        "```\n",
        "!pip isntall pyswip\n",
        "```\n"
      ]
    },
    {
      "cell_type": "markdown",
      "metadata": {
        "id": "21xzXVjQ5tFB"
      },
      "source": [
        "---\n",
        "#Κώδικας για κατασκευή περιβάλλοντος εργασίας\n",
        "##Μόνο για Google Colab\n",
        "\n",
        "Κώδικας για να γίνει Mount to Google Drive"
      ]
    },
    {
      "cell_type": "code",
      "metadata": {
        "id": "DfT5Z_wtrhsV",
        "outputId": "ab952b5b-890f-428a-ad62-d066b28ec6f9",
        "colab": {
          "base_uri": "https://localhost:8080/",
          "height": 34
        }
      },
      "source": [
        "from google.colab import drive\n",
        "drive.mount('/gdrive')\n",
        "import os\n",
        "os.listdir('/gdrive/My Drive')\n",
        "path='/gdrive/My Drive/'"
      ],
      "execution_count": null,
      "outputs": [
        {
          "output_type": "stream",
          "text": [
            "Drive already mounted at /gdrive; to attempt to forcibly remount, call drive.mount(\"/gdrive\", force_remount=True).\n"
          ],
          "name": "stdout"
        }
      ]
    },
    {
      "cell_type": "markdown",
      "metadata": {
        "id": "Rk-8r3HU6Jyo"
      },
      "source": [
        "Κώδικάς για να εγκατασταθεί το Swi-Prolog και το pyswip.<br>\n",
        "\n",
        "***Αυτά χρειάζονται σε κάθε περιβάλλον λειτουργίας, αν δεν έιναι ήδη  εγκατεστημένα.***"
      ]
    },
    {
      "cell_type": "code",
      "metadata": {
        "id": "mHVpa_D65-E2",
        "outputId": "df4e7d82-0dc2-4130-f16b-c4e931abdc42",
        "colab": {
          "base_uri": "https://localhost:8080/",
          "height": 1000
        }
      },
      "source": [
        "#install swi-prolog\n",
        "!sudo apt-get install software-properties-common\n",
        "!sudo apt-add-repository ppa:swi-prolog/stable\n",
        "!sudo apt-get update\n",
        "!sudo apt-get install swi-prolog"
      ],
      "execution_count": null,
      "outputs": [
        {
          "output_type": "stream",
          "text": [
            "\rReading package lists... 0%\r\rReading package lists... 0%\r\rReading package lists... 0%\r\rReading package lists... 7%\r\rReading package lists... 7%\r\rReading package lists... 7%\r\rReading package lists... 7%\r\rReading package lists... 65%\r\rReading package lists... 65%\r\rReading package lists... 66%\r\rReading package lists... 66%\r\rReading package lists... 71%\r\rReading package lists... 72%\r\rReading package lists... 72%\r\rReading package lists... 73%\r\rReading package lists... 73%\r\rReading package lists... 82%\r\rReading package lists... 82%\r\rReading package lists... 82%\r\rReading package lists... 82%\r\rReading package lists... 82%\r\rReading package lists... 82%\r\rReading package lists... 82%\r\rReading package lists... 82%\r\rReading package lists... 87%\r\rReading package lists... 87%\r\rReading package lists... 87%\r\rReading package lists... 87%\r\rReading package lists... 93%\r\rReading package lists... 93%\r\rReading package lists... 93%\r\rReading package lists... 93%\r\rReading package lists... 93%\r\rReading package lists... 93%\r\rReading package lists... 94%\r\rReading package lists... 94%\r\rReading package lists... 95%\r\rReading package lists... 95%\r\rReading package lists... 98%\r\rReading package lists... 98%\r\rReading package lists... 98%\r\rReading package lists... 98%\r\rReading package lists... 98%\r\rReading package lists... 98%\r\rReading package lists... Done\r\n",
            "\rBuilding dependency tree... 0%\r\rBuilding dependency tree... 0%\r\rBuilding dependency tree... 50%\r\rBuilding dependency tree... 50%\r\rBuilding dependency tree       \r\n",
            "\rReading state information... 0%\r\rReading state information... 0%\r\rReading state information... Done\r\n",
            "The following package was automatically installed and is no longer required:\n",
            "  libnvidia-common-430\n",
            "Use 'sudo apt autoremove' to remove it.\n",
            "The following additional packages will be installed:\n",
            "  python3-software-properties\n",
            "Recommended packages:\n",
            "  unattended-upgrades\n",
            "The following packages will be upgraded:\n",
            "  python3-software-properties software-properties-common\n",
            "2 upgraded, 0 newly installed, 0 to remove and 61 not upgraded.\n",
            "Need to get 33.6 kB of archives.\n",
            "After this operation, 0 B of additional disk space will be used.\n",
            "\r0% [Working]\r            \rGet:1 http://archive.ubuntu.com/ubuntu bionic-updates/main amd64 software-properties-common all 0.96.24.32.12 [10.0 kB]\n",
            "\r0% [1 software-properties-common 0 B/10.0 kB 0%]\r                                                \r34% [Working]\r             \rGet:2 http://archive.ubuntu.com/ubuntu bionic-updates/main amd64 python3-software-properties all 0.96.24.32.12 [23.6 kB]\n",
            "\r34% [2 python3-software-properties 0 B/23.6 kB 0%]\r                                                  \r100% [Working]\r              \rFetched 33.6 kB in 0s (97.6 kB/s)\n",
            "debconf: unable to initialize frontend: Dialog\n",
            "debconf: (No usable dialog-like program is installed, so the dialog based frontend cannot be used. at /usr/share/perl5/Debconf/FrontEnd/Dialog.pm line 76, <> line 2.)\n",
            "debconf: falling back to frontend: Readline\n",
            "debconf: unable to initialize frontend: Readline\n",
            "debconf: (This frontend requires a controlling tty.)\n",
            "debconf: falling back to frontend: Teletype\n",
            "dpkg-preconfigure: unable to re-open stdin: \n",
            "(Reading database ... \r(Reading database ... 5%\r(Reading database ... 10%\r(Reading database ... 15%\r(Reading database ... 20%\r(Reading database ... 25%\r(Reading database ... 30%\r(Reading database ... 35%\r(Reading database ... 40%\r(Reading database ... 45%\r(Reading database ... 50%\r(Reading database ... 55%\r(Reading database ... 60%\r(Reading database ... 65%\r(Reading database ... 70%\r(Reading database ... 75%\r(Reading database ... 80%\r(Reading database ... 85%\r(Reading database ... 90%\r(Reading database ... 95%\r(Reading database ... 100%\r(Reading database ... 148051 files and directories currently installed.)\n",
            "Preparing to unpack .../software-properties-common_0.96.24.32.12_all.deb ...\n",
            "Unpacking software-properties-common (0.96.24.32.12) over (0.96.24.32.11) ...\n",
            "Preparing to unpack .../python3-software-properties_0.96.24.32.12_all.deb ...\n",
            "Unpacking python3-software-properties (0.96.24.32.12) over (0.96.24.32.11) ...\n",
            "Setting up python3-software-properties (0.96.24.32.12) ...\n",
            "Setting up software-properties-common (0.96.24.32.12) ...\n",
            "Processing triggers for dbus (1.12.2-1ubuntu1.1) ...\n",
            "Processing triggers for man-db (2.8.3-2ubuntu0.1) ...\n",
            " Comprehensive Prolog implementation with extensive libraries and development tools.   Primarily targetted at teaching, RDF processing and web-related tasks, such as creating web services or analysing web content.\n",
            " More info: https://launchpad.net/~swi-prolog/+archive/ubuntu/stable\n",
            "Press [ENTER] to continue or Ctrl-c to cancel adding it.\n",
            "\n",
            "Hit:1 http://security.ubuntu.com/ubuntu bionic-security InRelease\n",
            "Hit:2 https://cloud.r-project.org/bin/linux/ubuntu bionic-cran35/ InRelease\n",
            "Ign:3 https://developer.download.nvidia.com/compute/cuda/repos/ubuntu1804/x86_64  InRelease\n",
            "Hit:4 http://archive.ubuntu.com/ubuntu bionic InRelease\n",
            "Hit:5 http://ppa.launchpad.net/graphics-drivers/ppa/ubuntu bionic InRelease\n",
            "Ign:6 https://developer.download.nvidia.com/compute/machine-learning/repos/ubuntu1804/x86_64  InRelease\n",
            "Hit:7 https://developer.download.nvidia.com/compute/cuda/repos/ubuntu1804/x86_64  Release\n",
            "Hit:8 https://developer.download.nvidia.com/compute/machine-learning/repos/ubuntu1804/x86_64  Release\n",
            "Hit:9 http://archive.ubuntu.com/ubuntu bionic-updates InRelease\n",
            "Hit:10 http://archive.ubuntu.com/ubuntu bionic-backports InRelease\n",
            "Hit:11 http://ppa.launchpad.net/marutter/c2d4u3.5/ubuntu bionic InRelease\n",
            "Hit:14 http://ppa.launchpad.net/swi-prolog/stable/ubuntu bionic InRelease\n",
            "Reading package lists... Done\n",
            "Hit:1 https://cloud.r-project.org/bin/linux/ubuntu bionic-cran35/ InRelease\n",
            "Hit:2 http://security.ubuntu.com/ubuntu bionic-security InRelease\n",
            "Ign:3 https://developer.download.nvidia.com/compute/cuda/repos/ubuntu1804/x86_64  InRelease\n",
            "Hit:4 http://archive.ubuntu.com/ubuntu bionic InRelease\n",
            "Hit:5 http://ppa.launchpad.net/graphics-drivers/ppa/ubuntu bionic InRelease\n",
            "Ign:6 https://developer.download.nvidia.com/compute/machine-learning/repos/ubuntu1804/x86_64  InRelease\n",
            "Hit:7 https://developer.download.nvidia.com/compute/cuda/repos/ubuntu1804/x86_64  Release\n",
            "Hit:8 https://developer.download.nvidia.com/compute/machine-learning/repos/ubuntu1804/x86_64  Release\n",
            "Hit:9 http://archive.ubuntu.com/ubuntu bionic-updates InRelease\n",
            "Hit:10 http://archive.ubuntu.com/ubuntu bionic-backports InRelease\n",
            "Hit:11 http://ppa.launchpad.net/marutter/c2d4u3.5/ubuntu bionic InRelease\n",
            "Hit:14 http://ppa.launchpad.net/swi-prolog/stable/ubuntu bionic InRelease\n",
            "Reading package lists... Done\n",
            "Reading package lists... Done\n",
            "Building dependency tree       \n",
            "Reading state information... Done\n",
            "swi-prolog is already the newest version (8.0.3-1-gcbd8b3b92-bionicppa2).\n",
            "The following package was automatically installed and is no longer required:\n",
            "  libnvidia-common-430\n",
            "Use 'sudo apt autoremove' to remove it.\n",
            "0 upgraded, 0 newly installed, 0 to remove and 61 not upgraded.\n"
          ],
          "name": "stdout"
        }
      ]
    },
    {
      "cell_type": "code",
      "metadata": {
        "id": "-2iiVO5msvxf",
        "outputId": "78d2a6c8-0489-44ff-b42b-b3801188aab4",
        "colab": {
          "base_uri": "https://localhost:8080/",
          "height": 34
        }
      },
      "source": [
        "#install pyswip\n",
        "!pip install pyswip"
      ],
      "execution_count": null,
      "outputs": [
        {
          "output_type": "stream",
          "text": [
            "Requirement already satisfied: pyswip in /usr/local/lib/python3.6/dist-packages (0.2.9)\n"
          ],
          "name": "stdout"
        }
      ]
    },
    {
      "cell_type": "markdown",
      "metadata": {
        "id": "YwVgPW316S3l"
      },
      "source": [
        "---"
      ]
    },
    {
      "cell_type": "markdown",
      "metadata": {
        "id": "rhbCLdSqKUy2"
      },
      "source": [
        "# **Μέρος 1: Μελέτη των Metadata, Δημιουργία κόσμου και των βασικών queries.**\n"
      ]
    },
    {
      "cell_type": "code",
      "metadata": {
        "id": "Z_f0xW6_tHhp",
        "outputId": "a6e889cb-82dc-48df-8550-714b305232a1",
        "colab": {
          "base_uri": "https://localhost:8080/",
          "height": 452
        }
      },
      "source": [
        "# Η βιβλιοθήκη pandas είναι χρήσιμη για την εργασία με τέτοια δεδομένα\n",
        "import pandas as pd \n",
        "# Διάβασμα του αρχείου 'movie_metadata.csv' \n",
        "\n",
        "\n",
        "data = pd.read_csv(path + \"movie_metadata.csv\") \n",
        "\n",
        "\n",
        "# data = pd.read_csv(path + \"small_movie_metadata.csv\") \n",
        "#Στο csv υπαρχούν κελία με nan τιμές\n",
        "#Στις θέσεις αυτές βάζουμε 'UNK' πράγμα που  κάνουμε με την παρακάτω συνάρτηση\n",
        "data.fillna(\"UNK\", inplace=True)\n",
        "# Preview the first 5 lines of the loaded data \n",
        "data.head()"
      ],
      "execution_count": null,
      "outputs": [
        {
          "output_type": "execute_result",
          "data": {
            "text/html": [
              "<div>\n",
              "<style scoped>\n",
              "    .dataframe tbody tr th:only-of-type {\n",
              "        vertical-align: middle;\n",
              "    }\n",
              "\n",
              "    .dataframe tbody tr th {\n",
              "        vertical-align: top;\n",
              "    }\n",
              "\n",
              "    .dataframe thead th {\n",
              "        text-align: right;\n",
              "    }\n",
              "</style>\n",
              "<table border=\"1\" class=\"dataframe\">\n",
              "  <thead>\n",
              "    <tr style=\"text-align: right;\">\n",
              "      <th></th>\n",
              "      <th>color</th>\n",
              "      <th>director_name</th>\n",
              "      <th>num_critic_for_reviews</th>\n",
              "      <th>duration</th>\n",
              "      <th>director_facebook_likes</th>\n",
              "      <th>actor_3_facebook_likes</th>\n",
              "      <th>actor_2_name</th>\n",
              "      <th>actor_1_facebook_likes</th>\n",
              "      <th>gross</th>\n",
              "      <th>genres</th>\n",
              "      <th>actor_1_name</th>\n",
              "      <th>movie_title</th>\n",
              "      <th>num_voted_users</th>\n",
              "      <th>cast_total_facebook_likes</th>\n",
              "      <th>actor_3_name</th>\n",
              "      <th>facenumber_in_poster</th>\n",
              "      <th>plot_keywords</th>\n",
              "      <th>movie_imdb_link</th>\n",
              "      <th>num_user_for_reviews</th>\n",
              "      <th>language</th>\n",
              "      <th>country</th>\n",
              "      <th>content_rating</th>\n",
              "      <th>budget</th>\n",
              "      <th>title_year</th>\n",
              "      <th>actor_2_facebook_likes</th>\n",
              "      <th>imdb_score</th>\n",
              "      <th>aspect_ratio</th>\n",
              "      <th>movie_facebook_likes</th>\n",
              "    </tr>\n",
              "  </thead>\n",
              "  <tbody>\n",
              "    <tr>\n",
              "      <th>0</th>\n",
              "      <td>Color</td>\n",
              "      <td>James Cameron</td>\n",
              "      <td>723</td>\n",
              "      <td>178</td>\n",
              "      <td>0</td>\n",
              "      <td>855</td>\n",
              "      <td>Joel David Moore</td>\n",
              "      <td>1000</td>\n",
              "      <td>7.60506e+08</td>\n",
              "      <td>Action|Adventure|Fantasy|Sci-Fi</td>\n",
              "      <td>CCH Pounder</td>\n",
              "      <td>Avatar</td>\n",
              "      <td>886204</td>\n",
              "      <td>4834</td>\n",
              "      <td>Wes Studi</td>\n",
              "      <td>0</td>\n",
              "      <td>avatar|future|marine|native|paraplegic</td>\n",
              "      <td>http://www.imdb.com/title/tt0499549/?ref_=fn_t...</td>\n",
              "      <td>3054</td>\n",
              "      <td>English</td>\n",
              "      <td>USA</td>\n",
              "      <td>PG-13</td>\n",
              "      <td>2.37e+08</td>\n",
              "      <td>2009</td>\n",
              "      <td>936</td>\n",
              "      <td>7.9</td>\n",
              "      <td>1.78</td>\n",
              "      <td>33000</td>\n",
              "    </tr>\n",
              "    <tr>\n",
              "      <th>1</th>\n",
              "      <td>Color</td>\n",
              "      <td>Gore Verbinski</td>\n",
              "      <td>302</td>\n",
              "      <td>169</td>\n",
              "      <td>563</td>\n",
              "      <td>1000</td>\n",
              "      <td>Orlando Bloom</td>\n",
              "      <td>40000</td>\n",
              "      <td>3.09404e+08</td>\n",
              "      <td>Action|Adventure|Fantasy</td>\n",
              "      <td>Johnny Depp</td>\n",
              "      <td>Pirates of the Caribbean: At World's End</td>\n",
              "      <td>471220</td>\n",
              "      <td>48350</td>\n",
              "      <td>Jack Davenport</td>\n",
              "      <td>0</td>\n",
              "      <td>goddess|marriage ceremony|marriage proposal|pi...</td>\n",
              "      <td>http://www.imdb.com/title/tt0449088/?ref_=fn_t...</td>\n",
              "      <td>1238</td>\n",
              "      <td>English</td>\n",
              "      <td>USA</td>\n",
              "      <td>PG-13</td>\n",
              "      <td>3e+08</td>\n",
              "      <td>2007</td>\n",
              "      <td>5000</td>\n",
              "      <td>7.1</td>\n",
              "      <td>2.35</td>\n",
              "      <td>0</td>\n",
              "    </tr>\n",
              "    <tr>\n",
              "      <th>2</th>\n",
              "      <td>Color</td>\n",
              "      <td>Sam Mendes</td>\n",
              "      <td>602</td>\n",
              "      <td>148</td>\n",
              "      <td>0</td>\n",
              "      <td>161</td>\n",
              "      <td>Rory Kinnear</td>\n",
              "      <td>11000</td>\n",
              "      <td>2.00074e+08</td>\n",
              "      <td>Action|Adventure|Thriller</td>\n",
              "      <td>Christoph Waltz</td>\n",
              "      <td>Spectre</td>\n",
              "      <td>275868</td>\n",
              "      <td>11700</td>\n",
              "      <td>Stephanie Sigman</td>\n",
              "      <td>1</td>\n",
              "      <td>bomb|espionage|sequel|spy|terrorist</td>\n",
              "      <td>http://www.imdb.com/title/tt2379713/?ref_=fn_t...</td>\n",
              "      <td>994</td>\n",
              "      <td>English</td>\n",
              "      <td>UK</td>\n",
              "      <td>PG-13</td>\n",
              "      <td>2.45e+08</td>\n",
              "      <td>2015</td>\n",
              "      <td>393</td>\n",
              "      <td>6.8</td>\n",
              "      <td>2.35</td>\n",
              "      <td>85000</td>\n",
              "    </tr>\n",
              "    <tr>\n",
              "      <th>3</th>\n",
              "      <td>Color</td>\n",
              "      <td>Christopher Nolan</td>\n",
              "      <td>813</td>\n",
              "      <td>164</td>\n",
              "      <td>22000</td>\n",
              "      <td>23000</td>\n",
              "      <td>Christian Bale</td>\n",
              "      <td>27000</td>\n",
              "      <td>4.48131e+08</td>\n",
              "      <td>Action|Thriller</td>\n",
              "      <td>Tom Hardy</td>\n",
              "      <td>The Dark Knight Rises</td>\n",
              "      <td>1144337</td>\n",
              "      <td>106759</td>\n",
              "      <td>Joseph Gordon-Levitt</td>\n",
              "      <td>0</td>\n",
              "      <td>deception|imprisonment|lawlessness|police offi...</td>\n",
              "      <td>http://www.imdb.com/title/tt1345836/?ref_=fn_t...</td>\n",
              "      <td>2701</td>\n",
              "      <td>English</td>\n",
              "      <td>USA</td>\n",
              "      <td>PG-13</td>\n",
              "      <td>2.5e+08</td>\n",
              "      <td>2012</td>\n",
              "      <td>23000</td>\n",
              "      <td>8.5</td>\n",
              "      <td>2.35</td>\n",
              "      <td>164000</td>\n",
              "    </tr>\n",
              "    <tr>\n",
              "      <th>4</th>\n",
              "      <td>UNK</td>\n",
              "      <td>Doug Walker</td>\n",
              "      <td>UNK</td>\n",
              "      <td>UNK</td>\n",
              "      <td>131</td>\n",
              "      <td>UNK</td>\n",
              "      <td>Rob Walker</td>\n",
              "      <td>131</td>\n",
              "      <td>UNK</td>\n",
              "      <td>Documentary</td>\n",
              "      <td>Doug Walker</td>\n",
              "      <td>Star Wars: Episode VII - The Force Awakens    ...</td>\n",
              "      <td>8</td>\n",
              "      <td>143</td>\n",
              "      <td>UNK</td>\n",
              "      <td>0</td>\n",
              "      <td>UNK</td>\n",
              "      <td>http://www.imdb.com/title/tt5289954/?ref_=fn_t...</td>\n",
              "      <td>UNK</td>\n",
              "      <td>UNK</td>\n",
              "      <td>UNK</td>\n",
              "      <td>UNK</td>\n",
              "      <td>UNK</td>\n",
              "      <td>UNK</td>\n",
              "      <td>12</td>\n",
              "      <td>7.1</td>\n",
              "      <td>UNK</td>\n",
              "      <td>0</td>\n",
              "    </tr>\n",
              "  </tbody>\n",
              "</table>\n",
              "</div>"
            ],
            "text/plain": [
              "   color      director_name  ... aspect_ratio movie_facebook_likes\n",
              "0  Color      James Cameron  ...         1.78                33000\n",
              "1  Color     Gore Verbinski  ...         2.35                    0\n",
              "2  Color         Sam Mendes  ...         2.35                85000\n",
              "3  Color  Christopher Nolan  ...         2.35               164000\n",
              "4    UNK        Doug Walker  ...          UNK                    0\n",
              "\n",
              "[5 rows x 28 columns]"
            ]
          },
          "metadata": {
            "tags": []
          },
          "execution_count": 4
        }
      ]
    },
    {
      "cell_type": "code",
      "metadata": {
        "id": "dG4-a9_FzRRd"
      },
      "source": [
        "from pyswip import Prolog"
      ],
      "execution_count": null,
      "outputs": []
    },
    {
      "cell_type": "code",
      "metadata": {
        "id": "ceBtnUMn7Mwm"
      },
      "source": [
        "def clean_text(text):\n",
        "    text = text.replace(u'\\xa0', u'')\n",
        "    text = text.replace(u\"'\", u'')\n",
        "    text = text.replace(u'\"', u'')\n",
        "    return text"
      ],
      "execution_count": null,
      "outputs": []
    },
    {
      "cell_type": "code",
      "metadata": {
        "id": "8-fmdlMxxBzx"
      },
      "source": [
        "#create World\n",
        "#Ορίζουμε τον κόσμο μας\n",
        "prolog = Prolog()\n",
        "#και σβήνουμε ότι υπήρχε αποθηκευμένο από πρίν\n",
        "prolog.query('make')\n",
        "\n",
        "#Για κάθε row του πίνακα φτιάχνουμε τα κατηγοτήματα που θέλουμε να αποθηκέυσουμε\n",
        "#αρχικά σε μια λίστα με το όνομα literals\n",
        "literals = []\n",
        "movie_score = {}\n",
        "for row in data.itertuples(index=True, name='Pandas'):\n",
        "    movie_title = clean_text(getattr(row, 'movie_title'))\n",
        "    director = clean_text(getattr(row, 'director_name'))\n",
        "    # plot_keywords = clean_text(getattr(row, 'plot_keywords'))\n",
        "    actor_1 = clean_text(getattr(row, 'actor_1_name'))\n",
        "    actor_2 = clean_text(getattr(row, 'actor_2_name'))\n",
        "    actor_3 = clean_text(getattr(row, 'actor_3_name'))\n",
        "    language = clean_text(getattr(row, 'language'))\n",
        "    color = clean_text(getattr(row, 'color'))\n",
        "    \n",
        "    movie_score[movie_title] = 0\n",
        "    \n",
        "    if movie_title != \"UNK\":\n",
        "        if director != \"UNK\":\n",
        "            literals.append(\"director('\"+ movie_title +\"','\" + director + \"')\")\n",
        "        for genre in getattr(row, 'genres').split(\"|\"):\n",
        "            literals.append(\"genre('\"+ movie_title +\"','\"+ genre +\"')\")\n",
        "        for plot_keyword in getattr(row, 'plot_keywords').split(\"|\"):\n",
        "            literals.append(\"plot_keyword('\"+ movie_title +\"','\"+ clean_text(plot_keyword) + \"')\")\n",
        "        literals.append(\"actor('\"+ movie_title + \"', '\"+ actor_1 +\"')\")\n",
        "        literals.append(\"actor('\"+ movie_title + \"', '\"+ actor_2 +\"')\")\n",
        "        literals.append(\"actor('\"+ movie_title + \"', '\"+ actor_3 +\"')\")\n",
        "        literals.append(\"language('\"+ movie_title + \"', '\"+ language +\"')\")\n",
        "        literals.append(\"color('\"+ movie_title + \"', '\"+ color +\"')\")\n",
        "\n",
        "#Η Prolog θέλει τα κατηγορήματά της με την σειρά \n",
        "literals.sort()\n",
        "for literal in literals:\n",
        "    prolog.assertz(literal)\n",
        "\n",
        "#Επίσης μπορούμε να κάνουμε consult ένα έτοιμό αρχίο στον κόσμο όπως γίνεται παρακάτω\n",
        "# prolog.consult(\"filename.pl\")\n"
      ],
      "execution_count": null,
      "outputs": []
    },
    {
      "cell_type": "markdown",
      "metadata": {
        "id": "gpMVPz-3K07i"
      },
      "source": [
        "# **2ο Μέρος: Recommendation System με βάση μόνο τα χαρακτηριστικά των ταινιών.**\n",
        "\n",
        "Στο σημείο αυτό με βάση τους κανόνες που κατασκευάστηκαν στο Μέρος 1 θα κατασκευαστούν κατηγορήματα για την ομοιότητα ταινιών. Παρακάτω δίνεται ένα μικρό παράδειγμα ενός κανόνα και πώς αυτός θα μπορούσε να γραφτεί μέσω του Pyswip. Επίσης όπως αναφέρεται και σε σχόλιο παραπάνω θα μπορεί να γραφτεί και μια βάση δεδομένων με τους κανόνες και να γίνει απευθείας consult.\n",
        "\n",
        "Στο παρακάτω παράδειγμα το 5 και το 4 εκφράζουν την ομοιότητα των ταινιών π.χ. οι ταινίες που παράγονται μέσω του find_similar_5 είναι πιο όμοιες από αυτές που παράγονται μέσω του find_similar_4. \n"
      ]
    },
    {
      "cell_type": "code",
      "metadata": {
        "id": "h1nmSLlmA75q"
      },
      "source": [
        "# Κατασκευή κανόνων\n",
        "\n",
        "# Αρκετά κοινό θέμα (5 κοινά)\n",
        "prolog.assertz('exact_same_genre(X, Y) :- genre(X, A), genre(Y ,A), genre(X, B), genre(Y ,B), genre(X, C), genre(Y ,C), genre(X, D), genre(Y ,D), genre(X, E), genre(Y ,E), X \\= Y, A \\= B, A \\= C, B \\= C')\n",
        "\n",
        "# Σχετικά κοινό θέμα (3 κοινά)\n",
        "prolog.assertz('partially_same_genre(X, Y) :- genre(X, A), genre(Y ,A), genre(X, B), genre(Y ,B), genre(X, C), genre(Y ,C), X \\= Y, A \\= B, A \\= C, B \\= C')\n",
        "\n",
        "# Λιγότερο κοινό θέμα (1 κοινό)\n",
        "prolog.assertz('(marginally_same_genre(X, Y) :- genre(X, G), genre(Y ,G), X \\= Y)')\n",
        "\n",
        "# Κοινός σκηνοθέτης\n",
        "prolog.assertz('(common_director(X, Y) :- director(X, D), director(Y, D), X \\= Y)')\n",
        "\n",
        "# Αρκετά κοινή πλοκή (5 κοινά)\n",
        "prolog.assertz('(exact_same_plot(X, Y) :- plot_keyword(X, A), plot_keyword(Y ,A), plot_keyword(X, B), plot_keyword(Y ,B), plot_keyword(X, C), plot_keyword(Y ,C), plot_keyword(X, D), plot_keyword(Y ,D), plot_keyword(X, E), plot_keyword(Y ,E), X \\= Y, A \\= B, A \\= C, B \\= C)')\n",
        "\n",
        "# Σχετικά κοινή πλοκή (3 κοινά)\n",
        "prolog.assertz('(partially_same_plot(X, Y) :- plot_keyword(X, A), plot_keyword(Y ,A), plot_keyword(X, B), plot_keyword(Y ,B), plot_keyword(X, C), plot_keyword(Y ,C), X \\= Y, A \\= B, A \\= C, B \\= C)')\n",
        "\n",
        "# Λιγότερο κοινή πλοκή (1 κοινό)\n",
        "prolog.assertz('(marginally_same_plot(X, Y) :- plot_keyword(X, P), plot_keyword(Y ,P), X \\= Y)')\n",
        "\n",
        "# 3 κοινοί ηθοποιοί\n",
        "prolog.assertz('(three_common_actors(X, Y) :- actor(X, A), actor(X, B), actor(X, C), actor(Y, A), actor(Y, B), actor(Y, C), X \\= Y, A \\= B, A \\= C, B \\= C)')\n",
        "\n",
        "# 2 κοινοί ηθοποιοί\n",
        "prolog.assertz('(two_common_actors(X, Y) :- actor(X, A), actor(X, B), actor(Y, A), actor(Y, B), X \\= Y, A \\= B)')\n",
        "\n",
        "# 1 κοινός ηθοποιος\n",
        "prolog.assertz('(one_common_actor(X, Y) :- actor(X, A), actor(Y, A), X \\= Y)')\n",
        "\n",
        "# Ίδια γλώσσα\n",
        "prolog.assertz('(same_language(X, Y) :- language(X, L), language(Y, L), X \\= Y)')\n",
        "\n",
        "# Ίδιο χρώμα\n",
        "prolog.assertz('(same_color(X, Y) :- color(X, C), color(Y, C), X \\= Y)')\n",
        "\n",
        "# prolog.consult('db.pl')"
      ],
      "execution_count": null,
      "outputs": []
    },
    {
      "cell_type": "code",
      "metadata": {
        "id": "QtwtOIWyERAw"
      },
      "source": [
        "# recomending rules\n",
        "# 5/5 1 κοινό plot_keyword, 3 κοινά genres, 1 κοινός ηθοποιός\n",
        "prolog.assertz('(find_similar_movies_5(X, Y) :- marginally_same_plot(X, Y), exact_same_genre(X, Y), one_common_actor(X, Y), X \\= Y )')\n",
        "#  4/5 1 κοινά plot_keyword, 3 κοινά genres\n",
        "prolog.assertz('(find_similar_movies_4(X, Y) :- marginally_same_plot(X, Y), exact_same_genre(X, Y), X \\= Y )')\n",
        "# 3/5 1 κοινό genre, 2 κοινοί ηθοποιοί\n",
        "prolog.assertz('(find_similar_movies_3(X, Y) :- marginally_same_genre(X, Y), two_common_actors(X, Y), X \\= Y )')\n",
        "# 2/5 1 κοινό genre και 1 κοινός ηθοποιός\n",
        "prolog.assertz('(find_similar_movies_2(X, Y) :- marginally_same_genre(X, Y), one_common_actor(X, Y), X \\= Y )')\n",
        "# 1/5 1 κοινό genre\n",
        "prolog.assertz('(find_similar_movies_1(X, Y) :- marginally_same_genre(X, Y), X \\= Y)')"
      ],
      "execution_count": null,
      "outputs": []
    },
    {
      "cell_type": "code",
      "metadata": {
        "id": "DeAvc55byC0l"
      },
      "source": [
        "def simple_recommender(movie):\n",
        "    # print(ans)\n",
        "    \n",
        "    q = prolog.query(\"find_similar_movies_5('\" + movie +\"',M)\")\n",
        "    ans5 = []\n",
        "    for soln in q:\n",
        "        ans5.append(soln[\"M\"])\n",
        "    ans = set(ans5)\n",
        "\n",
        "    q = prolog.query(\"find_similar_movies_4('\" + movie +\"',M)\")\n",
        "    ans4 = []\n",
        "    for soln in q:\n",
        "        if soln[\"M\"] not in ans:\n",
        "            ans4.append(soln[\"M\"])\n",
        "            ans.add(soln[\"M\"])\n",
        "\n",
        "\n",
        "    q = prolog.query(\"find_similar_movies_3('\" + movie +\"',M)\")\n",
        "    ans3 = []\n",
        "    for soln in q:\n",
        "        if soln[\"M\"] not in ans:\n",
        "            ans3.append(soln[\"M\"])\n",
        "            ans.add(soln[\"M\"])\n",
        "\n",
        "\n",
        "    q = prolog.query(\"find_similar_movies_2('\" + movie +\"',M)\")\n",
        "    ans2 = []\n",
        "    for soln in q:\n",
        "        if soln[\"M\"] not in ans:\n",
        "            ans2.append(soln[\"M\"])\n",
        "            ans.add(soln[\"M\"])\n",
        "\n",
        "    \n",
        "    q = prolog.query(\"find_similar_movies_1('\" + movie +\"',M)\")\n",
        "    ans1 = []\n",
        "    for soln in q:\n",
        "        if soln[\"M\"] not in ans:\n",
        "            ans1.append(soln[\"M\"])\n",
        "            ans.add(soln[\"M\"])\n",
        "\n",
        "    #κάνουμε κάποιο Processing στα παραπάνω αποτελέσματα και επιστρέφουμε τις \"όμοιες\" ταινίες με φθίνουσα σειρά\n",
        "    return list(set(ans5))[:10], list(set(ans4))[:10], list(set(ans3))[:10], list(set(ans2))[:10], list(set(ans1))[:10]"
      ],
      "execution_count": null,
      "outputs": []
    },
    {
      "cell_type": "markdown",
      "metadata": {
        "id": "wCryo9VGAeWi"
      },
      "source": [
        "**Στο σημείο αυτό θα ζητήσουμε από το σύστημα να μας επιστρέψει ορισμένα αποτελέσματα για ταινίες για να εξετάσουμε την απόδοσή του.**\n"
      ]
    },
    {
      "cell_type": "code",
      "metadata": {
        "id": "IxNuJ6kX1m0m",
        "outputId": "dc8e265c-6748-4409-a4ff-9510a3200ba0",
        "colab": {
          "base_uri": "https://localhost:8080/",
          "height": 416
        }
      },
      "source": [
        "simple_recommender(\"Star Wars: Episode III - Revenge of the Sith\")"
      ],
      "execution_count": null,
      "outputs": [
        {
          "output_type": "execute_result",
          "data": {
            "text/plain": [
              "([],\n",
              " [],\n",
              " ['Star Wars: Episode II - Attack of the Clones'],\n",
              " ['American Heist',\n",
              "  'The Man with the Golden Gun',\n",
              "  'Corpse Bride',\n",
              "  'Jane Got a Gun',\n",
              "  'Charlie and the Chocolate Factory',\n",
              "  'Hugo',\n",
              "  'Jumper',\n",
              "  'Gremlins 2: The New Batch',\n",
              "  'Caravans',\n",
              "  'Thor'],\n",
              " ['Cirque du Soleil: Worlds Away',\n",
              "  'Knight and Day',\n",
              "  'The Art of War',\n",
              "  'Captain America: The Winter Soldier',\n",
              "  'Death Calls',\n",
              "  'Boom Town',\n",
              "  'Wanted',\n",
              "  'Insidious: Chapter 3',\n",
              "  'Clear and Present Danger',\n",
              "  'Animal Kingdom: Lets go Ape'])"
            ]
          },
          "metadata": {
            "tags": []
          },
          "execution_count": 11
        }
      ]
    },
    {
      "cell_type": "code",
      "metadata": {
        "id": "zp6o4MT4OPSz",
        "outputId": "50c03b0f-5a2e-4cd7-c143-4fa041446580",
        "colab": {
          "base_uri": "https://localhost:8080/",
          "height": 260
        }
      },
      "source": [
        "simple_recommender(\"Water\")"
      ],
      "execution_count": null,
      "outputs": [
        {
          "output_type": "execute_result",
          "data": {
            "text/plain": [
              "([],\n",
              " [],\n",
              " [],\n",
              " ['Kabhi Alvida Naa Kehna'],\n",
              " ['The Ugly Truth',\n",
              "  'Center Stage',\n",
              "  'Where the Truth Lies',\n",
              "  'Wimbledon',\n",
              "  'Jersey Boys',\n",
              "  'Knight and Day',\n",
              "  'Stoker',\n",
              "  'Our Family Wedding',\n",
              "  'Paint Your Wagon',\n",
              "  'Shine'])"
            ]
          },
          "metadata": {
            "tags": []
          },
          "execution_count": 12
        }
      ]
    },
    {
      "cell_type": "code",
      "metadata": {
        "id": "0v6GyZF9svzG",
        "outputId": "2e14a64c-a83f-480d-d7bd-f61616e1487a",
        "colab": {
          "base_uri": "https://localhost:8080/",
          "height": 330
        }
      },
      "source": [
        "simple_recommender(\"The Amazing Spider-Man 2\")"
      ],
      "execution_count": null,
      "outputs": [
        {
          "output_type": "execute_result",
          "data": {
            "text/plain": [
              "(['The Amazing Spider-Man'],\n",
              " ['Captain America: Civil War', 'The Forbidden Kingdom'],\n",
              " [],\n",
              " ['The Imaginarium of Doctor Parnassus',\n",
              "  'The Croods',\n",
              "  'Never Let Me Go',\n",
              "  'Zombieland',\n",
              "  'Unaccompanied Minors'],\n",
              " ['Cirque du Soleil: Worlds Away',\n",
              "  'Knight and Day',\n",
              "  'The Art of War',\n",
              "  'Captain America: The Winter Soldier',\n",
              "  'Death Calls',\n",
              "  'Star Wars: Episode II - Attack of the Clones',\n",
              "  'Boom Town',\n",
              "  'Wanted',\n",
              "  'Insidious: Chapter 3',\n",
              "  'Clear and Present Danger'])"
            ]
          },
          "metadata": {
            "tags": []
          },
          "execution_count": 13
        }
      ]
    },
    {
      "cell_type": "code",
      "metadata": {
        "id": "_isjJITtG7P3",
        "outputId": "8c3c14ae-7de2-4571-acc6-4a498d9c8fcb",
        "colab": {
          "base_uri": "https://localhost:8080/",
          "height": 434
        }
      },
      "source": [
        "simple_recommender('Pirates of the Caribbean: Dead Mans Chest')"
      ],
      "execution_count": null,
      "outputs": [
        {
          "output_type": "execute_result",
          "data": {
            "text/plain": [
              "([],\n",
              " ['Krull', 'TMNT'],\n",
              " ['Pirates of the Caribbean: At Worlds End',\n",
              "  'Pirates of the Caribbean: The Curse of the Black Pearl'],\n",
              " ['The Lone Ranger',\n",
              "  'Corpse Bride',\n",
              "  'Yoga Hosers',\n",
              "  'Charlie and the Chocolate Factory',\n",
              "  'Troy',\n",
              "  'Alice in Wonderland',\n",
              "  'Alice Through the Looking Glass',\n",
              "  'Rango',\n",
              "  'Mortdecai',\n",
              "  'The Tourist'],\n",
              " ['Cirque du Soleil: Worlds Away',\n",
              "  'Knight and Day',\n",
              "  'The Art of War',\n",
              "  'Captain America: The Winter Soldier',\n",
              "  'Death Calls',\n",
              "  'Star Wars: Episode II - Attack of the Clones',\n",
              "  'Boom Town',\n",
              "  'Wanted',\n",
              "  'Insidious: Chapter 3',\n",
              "  'Clear and Present Danger'])"
            ]
          },
          "metadata": {
            "tags": []
          },
          "execution_count": 14
        }
      ]
    },
    {
      "cell_type": "markdown",
      "metadata": {
        "id": "W04Qi2_yV7Fa"
      },
      "source": [
        "#Παρατηρήσεις\n",
        "Ύστερα από πειραματισμό βλέπουμε ότι για τις ταινίες που επιλέχθηκαν παραπάνω, ορισμένα πεδία, που αντιστοιχούν σε διαφορετικές βαθμίδες ομοιότητας παραμένουν κενά, ενώ οι βαθμίδες αυτές είναι διαφορετικές για κάθε ταινία. Αυτό οφείλεται είτε στο γεγονός ότι οι ταινίες που αντιστοιχούν σε μία βαθμίδα αντιστοιχούν και σε μία άλλη μεγαλύτερης ομοιότητας, είτε στην μη ύπαρξη αρκετά όμοιων ταινιών στον κόσμο που έχουμε κατασκευάσει (κυρίως αφορά την μεγαλύτερη βαθμίδα ομοιότητας)."
      ]
    },
    {
      "cell_type": "code",
      "metadata": {
        "id": "eLL2IjLVsvzc"
      },
      "source": [
        "def jaccard_similarity(list1, list2):\n",
        "    set1 = set(list1)\n",
        "    set2 = set(list2)\n",
        "    intersection = len(set1.intersection(set2))\n",
        "    union = len(set1) + len(set2) - intersection\n",
        "    return intersection / union"
      ],
      "execution_count": null,
      "outputs": []
    },
    {
      "cell_type": "code",
      "metadata": {
        "id": "IblswivXQEh_"
      },
      "source": [
        "# relatives = pd.read_csv(path + \"relative_movies.csv\")\n",
        "# for grade in simple_recommender('Killers'):\n",
        "#     jaccard_similarity(relatives, grade)\n"
      ],
      "execution_count": null,
      "outputs": []
    },
    {
      "cell_type": "markdown",
      "metadata": {
        "id": "YT4ZkBDaUklR"
      },
      "source": [
        "Η χρήση της συνάρτησης jaccard_similarity δεν επέφερε τα επιθυμητά αποτελέσματα, δεδομένου ότι τα κριτήρια που εφαρμόστηκαν για την κατασκευή των δικών μας προτάσεων δύναται να διαφέρουν αρκετά από αυτά που χρησιμοποιήθηκαν για τη κατασκευή του relative_movies.csv"
      ]
    },
    {
      "cell_type": "markdown",
      "metadata": {
        "id": "aAM9o2UZFbMC"
      },
      "source": [
        "# **3ο Μέρος: Recommendation System Με βάση τις προτιμήσεις-αξιολογήσεις του χρήστη**\n",
        "\n",
        "Αρχικά μελετάμε τις αξιολογήσεις κάθε χρήστη για να καταλάβουμε την δομή και τις πληροφορίες κάθε αρχείου.\n",
        "\n",
        "\n",
        "\n",
        "\n"
      ]
    },
    {
      "cell_type": "code",
      "metadata": {
        "id": "wdheN52GETd8",
        "outputId": "f5e1fa26-65a3-461b-c93c-5c0de02d4af8",
        "colab": {
          "base_uri": "https://localhost:8080/",
          "height": 206
        }
      },
      "source": [
        "user_1 = \"user1.csv\"\n",
        "user_2 = \"user2.csv\"\n",
        "\n",
        "ratings_1 = pd.read_csv(path + user_1)\n",
        "ratings_2 = pd.read_csv(path + user_2)\n",
        "\n",
        "# Preview the first 5 lines of the loaded data \n",
        "ratings_1.head()\n",
        "ratings_2.head()"
      ],
      "execution_count": null,
      "outputs": [
        {
          "output_type": "execute_result",
          "data": {
            "text/html": [
              "<div>\n",
              "<style scoped>\n",
              "    .dataframe tbody tr th:only-of-type {\n",
              "        vertical-align: middle;\n",
              "    }\n",
              "\n",
              "    .dataframe tbody tr th {\n",
              "        vertical-align: top;\n",
              "    }\n",
              "\n",
              "    .dataframe thead th {\n",
              "        text-align: right;\n",
              "    }\n",
              "</style>\n",
              "<table border=\"1\" class=\"dataframe\">\n",
              "  <thead>\n",
              "    <tr style=\"text-align: right;\">\n",
              "      <th></th>\n",
              "      <th>movie_title</th>\n",
              "      <th>rating</th>\n",
              "    </tr>\n",
              "  </thead>\n",
              "  <tbody>\n",
              "    <tr>\n",
              "      <th>0</th>\n",
              "      <td>Loser</td>\n",
              "      <td>1</td>\n",
              "    </tr>\n",
              "    <tr>\n",
              "      <th>1</th>\n",
              "      <td>All That Jazz</td>\n",
              "      <td>2</td>\n",
              "    </tr>\n",
              "    <tr>\n",
              "      <th>2</th>\n",
              "      <td>The Sting</td>\n",
              "      <td>2</td>\n",
              "    </tr>\n",
              "    <tr>\n",
              "      <th>3</th>\n",
              "      <td>Torque</td>\n",
              "      <td>3</td>\n",
              "    </tr>\n",
              "    <tr>\n",
              "      <th>4</th>\n",
              "      <td>Project X</td>\n",
              "      <td>1</td>\n",
              "    </tr>\n",
              "  </tbody>\n",
              "</table>\n",
              "</div>"
            ],
            "text/plain": [
              "     movie_title  rating\n",
              "0          Loser       1\n",
              "1  All That Jazz       2\n",
              "2      The Sting       2\n",
              "3         Torque       3\n",
              "4      Project X       1"
            ]
          },
          "metadata": {
            "tags": []
          },
          "execution_count": 16
        }
      ]
    },
    {
      "cell_type": "markdown",
      "metadata": {
        "id": "_AmyMzx5dXtS"
      },
      "source": [
        "**Κατασκευάζουμε τα scores για κάθε ταινία με βάση τις προηγούμενες αξιολογήσεις του χρήστη**"
      ]
    },
    {
      "cell_type": "code",
      "metadata": {
        "id": "JUg6UXqT_tu7"
      },
      "source": [
        "from collections import OrderedDict \n",
        "\n",
        "similarity_w = OrderedDict([\n",
        "                            (\"similarity_5\", 15),\n",
        "                            (\"similarity_4\",10),    #7\n",
        "                            (\"similarity_3\",7),\n",
        "                            (\"similarity_2\",4), \n",
        "                            (\"similarity_1\",1)\n",
        "])\n",
        "rating_weight = {5: 10, 4: 5, 3: 0, 2: -5, 1: -10}\n",
        "\n",
        "\n"
      ],
      "execution_count": null,
      "outputs": []
    },
    {
      "cell_type": "code",
      "metadata": {
        "id": "jodFgXdMWcDd"
      },
      "source": [
        "def compute_recommendation(rating):\n",
        "    movie_score_opt = {m: 0 for m in  movie_score}\n",
        "    for row in rating.itertuples(index=True, name='Pandas'):\n",
        "        movie = clean_text(getattr(row, 'movie_title'))\n",
        "        rating = getattr(row, 'rating') \n",
        "        grade_num = 5\n",
        "        for grade in similarity_w:\n",
        "            # print(grade)\n",
        "            q = prolog.query(\"find_similar_movies_\" + str(grade_num) + \"('\" + movie + \"', M)\")\n",
        "            for soln in q:\n",
        "                movie_score_opt [soln[\"M\"]] += similarity_w[grade] * rating_weight[rating]\n",
        "            q.close()\n",
        "            grade_num = grade_num -1\n",
        "    return movie_score_opt"
      ],
      "execution_count": null,
      "outputs": []
    },
    {
      "cell_type": "markdown",
      "metadata": {
        "id": "luU3can3dm-N"
      },
      "source": [
        "**Στο σημείο αυτό κατασκευάζουμε την νέα συνάρτηση η όποια θα επιστρέφει τις προτεινόμενες ταινίες συνυπολογίζοντας τις αξιολογήσεις του χρήστη.**"
      ]
    },
    {
      "cell_type": "code",
      "metadata": {
        "id": "kvL14dw3c9cF"
      },
      "source": [
        "def recommender(movie_score):\n",
        "    movies_score = {k: v for k, v in sorted(movie_score.items(), key=lambda item: item[1], reverse = True)}\n",
        "    return [m for m in movies_score][:10]"
      ],
      "execution_count": null,
      "outputs": []
    },
    {
      "cell_type": "code",
      "metadata": {
        "id": "VkHP2NVEvpqR",
        "outputId": "d6c25247-d4e7-4766-f129-a8ef44e9343d",
        "colab": {
          "base_uri": "https://localhost:8080/",
          "height": 191
        }
      },
      "source": [
        "recommender(compute_recommendation(ratings_1))"
      ],
      "execution_count": null,
      "outputs": [
        {
          "output_type": "execute_result",
          "data": {
            "text/plain": [
              "['Godzilla Resurgence',\n",
              " 'Lilo & Stitch',\n",
              " '20,000 Leagues Under the Sea',\n",
              " 'Hero',\n",
              " 'Cinderella',\n",
              " 'Planet of the Apes',\n",
              " 'Escape from Planet Earth',\n",
              " 'The Legend of Tarzan',\n",
              " 'Monsters vs. Aliens',\n",
              " 'Muppets from Space']"
            ]
          },
          "metadata": {
            "tags": []
          },
          "execution_count": 20
        }
      ]
    },
    {
      "cell_type": "code",
      "metadata": {
        "id": "4bKOiRkpCVF_",
        "outputId": "fc7a1ab1-d182-4755-d6bf-d16abc0e1178",
        "colab": {
          "base_uri": "https://localhost:8080/",
          "height": 191
        }
      },
      "source": [
        "recommender(compute_recommendation(ratings_2))"
      ],
      "execution_count": null,
      "outputs": [
        {
          "output_type": "execute_result",
          "data": {
            "text/plain": [
              "['The Host',\n",
              " 'Lucky Number Slevin',\n",
              " 'The Fast and the Furious',\n",
              " 'Victor Frankenstein',\n",
              " 'Godzilla 2000',\n",
              " 'Trance',\n",
              " 'All Good Things',\n",
              " 'Blade: Trinity',\n",
              " 'Dawn of the Planet of the Apes',\n",
              " 'Snakes on a Plane']"
            ]
          },
          "metadata": {
            "tags": []
          },
          "execution_count": 21
        }
      ]
    },
    {
      "cell_type": "markdown",
      "metadata": {
        "id": "0B9yhrUQsv0T"
      },
      "source": [
        "# Παρατηρήσεις\n",
        "Παρατηρούμε ότι εφαρμόζοντας τη ζητούμενη διαδικασία τα αποτελέσματα που προκύπτουν με βάση τα 2 ratings είναι ικανοποιητικά.\n",
        "Στη συνέχεια, κατασκευάζουμε 2 χρήστες προσθέτοντας χαρακτηριστικά ταινίας που τους αρέσουν. Ύστερα, επιλέγουμε τυχαία ταινίες που θα τους αρέσουν ή όχι βάζοντας ένα rating, το οποίο προκύπτει και αυτό τυχαία. Εφαρμόζοντας στο αποτέλεσμα την παραπάνω διαδικασία προκύπτουν τα ανάλογα αποτελέσματα."
      ]
    },
    {
      "cell_type": "markdown",
      "metadata": {
        "id": "KQBWWHsesv0Y"
      },
      "source": [
        "---\n",
        "<center><h2>Κατασκευή των Δικών σας Users</h2></center>\n",
        "\n",
        "---"
      ]
    },
    {
      "cell_type": "code",
      "metadata": {
        "id": "pG1hlKIosv0a"
      },
      "source": [
        "import csv\n",
        "import numpy as np\n",
        "\n",
        "def create_my_user(liked, notLiked, filename, num_of_liked =20, num_of_notliked = 20):\n",
        "    with open(filename, 'w', newline='') as file:\n",
        "        writer = csv.writer(file)\n",
        "        writer.writerow([\"movie_title\",\"rating\"])\n",
        "        liked = np.random.choice(liked, num_of_liked)\n",
        "        not_liked = np.random.choice(notLiked, num_of_notliked)\n",
        "        for i in  liked:\n",
        "            grade = np.random.choice([5,4,3], p = [0.5, 0.4, 0.1])\n",
        "            writer.writerow([i, grade])\n",
        "        for i in  not_liked:\n",
        "            grade = np.random.choice([1, 2, 3], p = [0.5, 0.4, 0.1])\n",
        "            writer.writerow([i, grade])"
      ],
      "execution_count": null,
      "outputs": []
    },
    {
      "cell_type": "code",
      "metadata": {
        "id": "LA_HYJVVsv0g"
      },
      "source": [
        "# prolog.consult(\"db.pl\")\n",
        "#Κατασκευάστε τα κατηγορήματα για τις ταινίες που σας αρέσουν και για αυτές που δεν σας αρέσουν\n",
        "#Αν μια ταινία ανήκει σε μια ευρίτερη κατηγορία κατεσκευάστε την πρώτα\n",
        "prolog.assertz(\"(fantasy(X) :- genre(X, 'Sci-Fi'); genre(X, 'Fantasy'))\")\n",
        "prolog.assertz(\"(thriller(X) :- genre(X, 'Horror'); genre(X, 'Thriller'))\")\n",
        "prolog.assertz(\"(liked_1(X) :- fantasy(X), director(X, 'James Cameron'))\")\n",
        "prolog.assertz(\"(notLiked_1(X) :- thriller(X))\")\n",
        "prolog.assertz(\"(liked_2(X) :- thriller(X), genre(X, 'Drama'))\")\n",
        "prolog.assertz(\"(notLiked_2(X) :- fantasy(X))\")"
      ],
      "execution_count": null,
      "outputs": []
    },
    {
      "cell_type": "code",
      "metadata": {
        "id": "ZeoocIel9ZfC"
      },
      "source": [
        "def construct_preferences(number_of_user):\n",
        "    q = prolog.query(\"liked_\" + number_of_user + \"(M)\")\n",
        "    ans = []\n",
        "    for soln in q:\n",
        "        ans.append(soln[\"M\"])\n",
        "    liked = list(set(ans))\n",
        "\n",
        "    q = prolog.query(\"notLiked_\" + number_of_user + \"(M)\")\n",
        "    ans = []\n",
        "    for soln in q:\n",
        "        ans.append(soln[\"M\"])\n",
        "    notliked = list(set(ans))\n",
        "\n",
        "    create_my_user(liked, notliked, filename= \"myuser.csv\", num_of_liked = 20, num_of_notliked = 20)"
      ],
      "execution_count": null,
      "outputs": []
    },
    {
      "cell_type": "code",
      "metadata": {
        "id": "56vys1yAKx2p",
        "outputId": "2d7f6fcb-ddf5-4130-be12-075e39c4e4a7",
        "colab": {
          "base_uri": "https://localhost:8080/",
          "height": 208
        }
      },
      "source": [
        "print(\"For user 1:\")\n",
        "construct_preferences(\"1\")\n",
        "my_ratings = pd.read_csv(\"myuser.csv\")\n",
        "recommender(compute_recommendation(my_ratings))"
      ],
      "execution_count": null,
      "outputs": [
        {
          "output_type": "stream",
          "text": [
            "For user 1:\n"
          ],
          "name": "stdout"
        },
        {
          "output_type": "execute_result",
          "data": {
            "text/plain": [
              "['Godzilla Resurgence',\n",
              " '20,000 Leagues Under the Sea',\n",
              " 'The Day the Earth Stood Still',\n",
              " 'The Host',\n",
              " 'Space Battleship Yamato',\n",
              " 'Race to Witch Mountain',\n",
              " 'Star Trek: Insurrection',\n",
              " 'The 5th Wave',\n",
              " 'The Darkest Hour',\n",
              " 'Star Wars: Episode I - The Phantom Menace']"
            ]
          },
          "metadata": {
            "tags": []
          },
          "execution_count": 25
        }
      ]
    },
    {
      "cell_type": "code",
      "metadata": {
        "id": "NEsnl59W-3Lx",
        "outputId": "1ca3de28-134a-45ae-8952-bb8ea28034a5",
        "colab": {
          "base_uri": "https://localhost:8080/",
          "height": 208
        }
      },
      "source": [
        "print(\"For user 2:\")\n",
        "construct_preferences(\"2\")\n",
        "my_ratings = pd.read_csv(\"myuser.csv\")\n",
        "recommender(compute_recommendation(my_ratings))"
      ],
      "execution_count": null,
      "outputs": [
        {
          "output_type": "stream",
          "text": [
            "For user 2:\n"
          ],
          "name": "stdout"
        },
        {
          "output_type": "execute_result",
          "data": {
            "text/plain": [
              "['Snitch',\n",
              " 'Victor Frankenstein',\n",
              " 'A Man Apart',\n",
              " 'Sicario',\n",
              " 'Homefront',\n",
              " 'Mercury Rising',\n",
              " 'Lucky Number Slevin',\n",
              " 'Trance',\n",
              " 'Bad Boys II',\n",
              " 'The Frozen Ground']"
            ]
          },
          "metadata": {
            "tags": []
          },
          "execution_count": 26
        }
      ]
    }
  ]
}